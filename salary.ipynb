{
  "nbformat": 4,
  "nbformat_minor": 0,
  "metadata": {
    "colab": {
      "provenance": [],
      "authorship_tag": "ABX9TyP4EtUOZw489CL6E1o60L6t",
      "include_colab_link": true
    },
    "kernelspec": {
      "name": "python3",
      "display_name": "Python 3"
    },
    "language_info": {
      "name": "python"
    },
    "accelerator": "TPU"
  },
  "cells": [
    {
      "cell_type": "markdown",
      "metadata": {
        "id": "view-in-github",
        "colab_type": "text"
      },
      "source": [
        "<a href=\"https://colab.research.google.com/github/Sathya-marasinghe/Algorithms/blob/main/salary.ipynb\" target=\"_parent\"><img src=\"https://colab.research.google.com/assets/colab-badge.svg\" alt=\"Open In Colab\"/></a>"
      ]
    },
    {
      "cell_type": "code",
      "execution_count": null,
      "metadata": {
        "id": "i_t9DDNNnxqp"
      },
      "outputs": [],
      "source": [
        "import pandas as pd"
      ]
    },
    {
      "cell_type": "code",
      "source": [
        "df = pd.read_csv(\"/content/w2_position_salaries-220925-153437.csv\")"
      ],
      "metadata": {
        "id": "Q5DnWpwYoBQj"
      },
      "execution_count": null,
      "outputs": []
    },
    {
      "cell_type": "code",
      "source": [
        "df.info"
      ],
      "metadata": {
        "colab": {
          "base_uri": "https://localhost:8080/"
        },
        "id": "eckzzRlBoKRs",
        "outputId": "d4cfdac1-3823-4507-f415-5126dee92015"
      },
      "execution_count": null,
      "outputs": [
        {
          "output_type": "execute_result",
          "data": {
            "text/plain": [
              "<bound method DataFrame.info of             Position  Level   Salary\n",
              "0   Business Analyst      1    45000\n",
              "1  Junior Consultant      2    50000\n",
              "2  Senior Consultant      3    60000\n",
              "3            Manager      4    80000\n",
              "4    Country Manager      5   110000\n",
              "5     Region Manager      6   150000\n",
              "6            Partner      7   200000\n",
              "7     Senior Partner      8   300000\n",
              "8            C-level      9   500000\n",
              "9                CEO     10  1000000>"
            ]
          },
          "metadata": {},
          "execution_count": 3
        }
      ]
    },
    {
      "cell_type": "code",
      "source": [
        "df.shape"
      ],
      "metadata": {
        "colab": {
          "base_uri": "https://localhost:8080/"
        },
        "id": "_9swlBKzobAt",
        "outputId": "df456520-60c8-48f5-bc01-81af139664c0"
      },
      "execution_count": null,
      "outputs": [
        {
          "output_type": "execute_result",
          "data": {
            "text/plain": [
              "(10, 3)"
            ]
          },
          "metadata": {},
          "execution_count": 4
        }
      ]
    },
    {
      "cell_type": "code",
      "source": [
        "# Assuming df is your DataFrame\n",
        "x_train = df[['Level']]  # Extracting the 'Level' column as the feature\n",
        "y_train = df['Salary']    # Extracting the 'Salary' column as the target variable\n"
      ],
      "metadata": {
        "id": "HjyRnSHBpQOy"
      },
      "execution_count": null,
      "outputs": []
    },
    {
      "cell_type": "code",
      "source": [
        "from sklearn.preprocessing import PolynomialFeatures\n",
        "from sklearn.linear_model import LinearRegression\n",
        "from sklearn.metrics import r2_score\n",
        "import numpy as np\n",
        "\n",
        "\n",
        "x_train = df[['Level']].values  # Feature\n",
        "y_train = df['Salary'].values    # Target variable\n",
        "\n",
        "# Train a simple linear regression model\n",
        "linear_model = LinearRegression()\n",
        "linear_model.fit(x_train, y_train)\n",
        "\n",
        "# Make predictions on the entire dataset\n",
        "y_pred_linear = linear_model.predict(x_train)\n",
        "\n",
        "# Compute R^2 score for simple linear regression\n",
        "r2_linear = r2_score(y_train, y_pred_linear)\n",
        "print(f\"R^2 Score for Simple Linear Regression: {r2_linear}\")\n",
        "\n",
        "# Train polynomial regression models with degrees 2, 3, and 4\n",
        "for degree in [2, 3, 4]:\n",
        "    # Create polynomial features\n",
        "    poly = PolynomialFeatures(degree=degree)\n",
        "    x_poly = poly.fit_transform(x_train)\n",
        "\n",
        "    # Create and train the linear regression model\n",
        "    poly_model = LinearRegression()\n",
        "    poly_model.fit(x_poly, y_train)\n",
        "\n",
        "    # Make predictions on the entire dataset\n",
        "    y_pred_poly = poly_model.predict(x_poly)\n",
        "\n",
        "    # Compute R^2 score for polynomial regression\n",
        "    r2_poly = r2_score(y_train, y_pred_poly)\n",
        "    print(f\"R^2 Score for Polynomial Regression (Degree {degree}): {r2_poly}\")\n"
      ],
      "metadata": {
        "colab": {
          "base_uri": "https://localhost:8080/"
        },
        "id": "xVnW0hwJue0k",
        "outputId": "e0282d24-686b-4c77-99e7-57d8ecd45a39"
      },
      "execution_count": null,
      "outputs": [
        {
          "output_type": "stream",
          "name": "stdout",
          "text": [
            "R^2 Score for Simple Linear Regression: 0.6690412331929895\n",
            "R^2 Score for Polynomial Regression (Degree 2): 0.9162082221443942\n",
            "R^2 Score for Polynomial Regression (Degree 3): 0.9812097727913366\n",
            "R^2 Score for Polynomial Regression (Degree 4): 0.9973922891706614\n"
          ]
        }
      ]
    }
  ]
}