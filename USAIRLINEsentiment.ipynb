{
  "nbformat": 4,
  "nbformat_minor": 0,
  "metadata": {
    "colab": {
      "provenance": [],
      "gpuType": "T4",
      "authorship_tag": "ABX9TyORsZ4L375eAisPhiRahPp/",
      "include_colab_link": true
    },
    "kernelspec": {
      "name": "python3",
      "display_name": "Python 3"
    },
    "language_info": {
      "name": "python"
    },
    "accelerator": "GPU"
  },
  "cells": [
    {
      "cell_type": "markdown",
      "metadata": {
        "id": "view-in-github",
        "colab_type": "text"
      },
      "source": [
        "<a href=\"https://colab.research.google.com/github/Sathya-marasinghe/Algorithms/blob/main/USAIRLINEsentiment.ipynb\" target=\"_parent\"><img src=\"https://colab.research.google.com/assets/colab-badge.svg\" alt=\"Open In Colab\"/></a>"
      ]
    },
    {
      "cell_type": "markdown",
      "source": [
        "### **Twitter US Airline Sentiment**"
      ],
      "metadata": {
        "id": "VZ04BgS65fhT"
      }
    },
    {
      "cell_type": "code",
      "source": [
        "!pip install opendatasets\n",
        "import pandas as pd\n",
        "import tensorflow as tf\n",
        "import opendatasets as od"
      ],
      "metadata": {
        "colab": {
          "base_uri": "https://localhost:8080/"
        },
        "id": "HRhc7Nb-5lb9",
        "outputId": "8bac3892-e1f7-45e1-a67b-fee4007b7990"
      },
      "execution_count": null,
      "outputs": [
        {
          "output_type": "stream",
          "name": "stdout",
          "text": [
            "Collecting opendatasets\n",
            "  Downloading opendatasets-0.1.22-py3-none-any.whl (15 kB)\n",
            "Requirement already satisfied: tqdm in /usr/local/lib/python3.10/dist-packages (from opendatasets) (4.66.1)\n",
            "Requirement already satisfied: kaggle in /usr/local/lib/python3.10/dist-packages (from opendatasets) (1.5.16)\n",
            "Requirement already satisfied: click in /usr/local/lib/python3.10/dist-packages (from opendatasets) (8.1.7)\n",
            "Requirement already satisfied: six>=1.10 in /usr/local/lib/python3.10/dist-packages (from kaggle->opendatasets) (1.16.0)\n",
            "Requirement already satisfied: certifi in /usr/local/lib/python3.10/dist-packages (from kaggle->opendatasets) (2023.11.17)\n",
            "Requirement already satisfied: python-dateutil in /usr/local/lib/python3.10/dist-packages (from kaggle->opendatasets) (2.8.2)\n",
            "Requirement already satisfied: requests in /usr/local/lib/python3.10/dist-packages (from kaggle->opendatasets) (2.31.0)\n",
            "Requirement already satisfied: python-slugify in /usr/local/lib/python3.10/dist-packages (from kaggle->opendatasets) (8.0.1)\n",
            "Requirement already satisfied: urllib3 in /usr/local/lib/python3.10/dist-packages (from kaggle->opendatasets) (2.0.7)\n",
            "Requirement already satisfied: bleach in /usr/local/lib/python3.10/dist-packages (from kaggle->opendatasets) (6.1.0)\n",
            "Requirement already satisfied: webencodings in /usr/local/lib/python3.10/dist-packages (from bleach->kaggle->opendatasets) (0.5.1)\n",
            "Requirement already satisfied: text-unidecode>=1.3 in /usr/local/lib/python3.10/dist-packages (from python-slugify->kaggle->opendatasets) (1.3)\n",
            "Requirement already satisfied: charset-normalizer<4,>=2 in /usr/local/lib/python3.10/dist-packages (from requests->kaggle->opendatasets) (3.3.2)\n",
            "Requirement already satisfied: idna<4,>=2.5 in /usr/local/lib/python3.10/dist-packages (from requests->kaggle->opendatasets) (3.6)\n",
            "Installing collected packages: opendatasets\n",
            "Successfully installed opendatasets-0.1.22\n"
          ]
        }
      ]
    },
    {
      "cell_type": "code",
      "source": [
        "od.download(\"https://www.kaggle.com/datasets/crowdflower/twitter-airline-sentiment\")"
      ],
      "metadata": {
        "colab": {
          "base_uri": "https://localhost:8080/"
        },
        "id": "-ZIE_gqN6TiX",
        "outputId": "5d275800-d8b9-49b2-e555-c296cfb97382"
      },
      "execution_count": null,
      "outputs": [
        {
          "output_type": "stream",
          "name": "stdout",
          "text": [
            "Please provide your Kaggle credentials to download this dataset. Learn more: http://bit.ly/kaggle-creds\n",
            "Your Kaggle username: sathyamarasinghe\n",
            "Your Kaggle Key: ··········\n",
            "Downloading twitter-airline-sentiment.zip to ./twitter-airline-sentiment\n"
          ]
        },
        {
          "output_type": "stream",
          "name": "stderr",
          "text": [
            "100%|██████████| 2.55M/2.55M [00:00<00:00, 171MB/s]"
          ]
        },
        {
          "output_type": "stream",
          "name": "stdout",
          "text": [
            "\n"
          ]
        },
        {
          "output_type": "stream",
          "name": "stderr",
          "text": [
            "\n"
          ]
        }
      ]
    },
    {
      "cell_type": "code",
      "source": [
        "df = pd.read_csv(\"/content/twitter-airline-sentiment/Tweets.csv\")"
      ],
      "metadata": {
        "id": "IVAqgafo6wLo"
      },
      "execution_count": null,
      "outputs": []
    },
    {
      "cell_type": "code",
      "source": [
        "df.shape\n"
      ],
      "metadata": {
        "colab": {
          "base_uri": "https://localhost:8080/"
        },
        "id": "pQFuxr5D7eRw",
        "outputId": "5c6cda73-90a8-4927-ac5b-51ada1707813"
      },
      "execution_count": null,
      "outputs": [
        {
          "output_type": "execute_result",
          "data": {
            "text/plain": [
              "(14640, 15)"
            ]
          },
          "metadata": {},
          "execution_count": 6
        }
      ]
    },
    {
      "cell_type": "code",
      "source": [
        "df = df[[\"airline_sentiment\", \"text\"]]"
      ],
      "metadata": {
        "id": "rpT_vg00eFH_"
      },
      "execution_count": null,
      "outputs": []
    },
    {
      "cell_type": "code",
      "source": [
        "import nltk\n",
        "\n",
        "import string\n",
        "\n",
        "import re"
      ],
      "metadata": {
        "id": "8qtlENa_epTb"
      },
      "execution_count": null,
      "outputs": []
    },
    {
      "cell_type": "code",
      "source": [
        "from nltk.stem.porter import PorterStemmer"
      ],
      "metadata": {
        "id": "OKcRBE9Eerbf"
      },
      "execution_count": null,
      "outputs": []
    },
    {
      "cell_type": "code",
      "source": [
        "nltk.download('stopwords')\n",
        "\n",
        "from nltk.corpus import stopwords\n"
      ],
      "metadata": {
        "colab": {
          "base_uri": "https://localhost:8080/"
        },
        "id": "zEtkOY7We0E6",
        "outputId": "0a275b36-60bc-4096-bc4a-6c2225bdb833"
      },
      "execution_count": null,
      "outputs": [
        {
          "output_type": "stream",
          "name": "stderr",
          "text": [
            "[nltk_data] Downloading package stopwords to /root/nltk_data...\n",
            "[nltk_data]   Unzipping corpora/stopwords.zip.\n"
          ]
        }
      ]
    },
    {
      "cell_type": "code",
      "source": [
        "nltk.download('punkt')\n",
        "\n",
        "ps = PorterStemmer()"
      ],
      "metadata": {
        "colab": {
          "base_uri": "https://localhost:8080/"
        },
        "id": "qkcVZqybe0UR",
        "outputId": "91f5a511-8658-488b-9c19-79a33d8d2315"
      },
      "execution_count": null,
      "outputs": [
        {
          "output_type": "stream",
          "name": "stderr",
          "text": [
            "[nltk_data] Downloading package punkt to /root/nltk_data...\n",
            "[nltk_data]   Unzipping tokenizers/punkt.zip.\n"
          ]
        }
      ]
    },
    {
      "cell_type": "code",
      "source": [
        "import nltk\n",
        "import string\n",
        "import re\n",
        "import pandas as pd\n",
        "from nltk.stem.porter import PorterStemmer\n",
        "\n",
        "nltk.download('stopwords')\n",
        "from nltk.corpus import stopwords\n",
        "nltk.download('punkt')\n",
        "\n",
        "ps = PorterStemmer()\n",
        "\n",
        "\n",
        "\n",
        "def clean_text(text):\n",
        "    text = text.lower()\n",
        "    text = re.sub(r'http.?://[^\\s]+[\\s]?', '', text)\n",
        "    text = nltk.word_tokenize(text)\n",
        "\n",
        "    y = []\n",
        "    for i in text:\n",
        "        if i not in stopwords.words('english'):\n",
        "            y.append(ps.stem(i))\n",
        "\n",
        "    return \" \".join(y)\n",
        "\n",
        "\n",
        "df['text_cleaned'] = df['text'].apply(clean_text)\n",
        "\n",
        "\n",
        "print(df[['text', 'text_cleaned']])\n"
      ],
      "metadata": {
        "colab": {
          "base_uri": "https://localhost:8080/"
        },
        "id": "wr6eRz9Oh4aR",
        "outputId": "e7dff415-4079-4a61-9531-8bf5ad3fc4a6"
      },
      "execution_count": null,
      "outputs": [
        {
          "output_type": "stream",
          "name": "stderr",
          "text": [
            "[nltk_data] Downloading package stopwords to /root/nltk_data...\n",
            "[nltk_data]   Package stopwords is already up-to-date!\n",
            "[nltk_data] Downloading package punkt to /root/nltk_data...\n",
            "[nltk_data]   Package punkt is already up-to-date!\n"
          ]
        },
        {
          "output_type": "stream",
          "name": "stdout",
          "text": [
            "                                                    text  \\\n",
            "0                    @VirginAmerica What @dhepburn said.   \n",
            "1      @VirginAmerica plus you've added commercials t...   \n",
            "2      @VirginAmerica I didn't today... Must mean I n...   \n",
            "3      @VirginAmerica it's really aggressive to blast...   \n",
            "4      @VirginAmerica and it's a really big bad thing...   \n",
            "...                                                  ...   \n",
            "14635  @AmericanAir thank you we got on a different f...   \n",
            "14636  @AmericanAir leaving over 20 minutes Late Flig...   \n",
            "14637  @AmericanAir Please bring American Airlines to...   \n",
            "14638  @AmericanAir you have my money, you change my ...   \n",
            "14639  @AmericanAir we have 8 ppl so we need 2 know h...   \n",
            "\n",
            "                                            text_cleaned  \n",
            "0                      @ virginamerica @ dhepburn said .  \n",
            "1      @ virginamerica plu 've ad commerci experi ......  \n",
            "2      @ virginamerica n't today ... must mean need t...  \n",
            "3      @ virginamerica 's realli aggress blast obnoxi...  \n",
            "4                @ virginamerica 's realli big bad thing  \n",
            "...                                                  ...  \n",
            "14635    @ americanair thank got differ flight chicago .  \n",
            "14636  @ americanair leav 20 minut late flight . warn...  \n",
            "14637  @ americanair pleas bring american airlin # bl...  \n",
            "14638  @ americanair money , chang flight , n't answe...  \n",
            "14639  @ americanair 8 ppl need 2 know mani seat next...  \n",
            "\n",
            "[14640 rows x 2 columns]\n"
          ]
        }
      ]
    },
    {
      "cell_type": "code",
      "source": [],
      "metadata": {
        "id": "obbZDuoSj7Qx"
      },
      "execution_count": null,
      "outputs": []
    },
    {
      "cell_type": "code",
      "source": [],
      "metadata": {
        "id": "YJ0mlS-7j7Xb"
      },
      "execution_count": null,
      "outputs": []
    },
    {
      "cell_type": "code",
      "source": [
        "def clean_text(text):\n",
        "    text = text.lower()\n",
        "    text = re.sub(r'http.?://[^\\s]+[\\s]?', '', text)\n",
        "    text = nltk.word_tokenize(text)\n",
        "\n",
        "    y = []\n",
        "    for i in text:\n",
        "        if i not in stopwords.words('english'):\n",
        "            y.append(ps.stem(i))\n",
        "\n",
        "    return \" \".join(y)\n",
        "\n",
        "# Apply clean_text function to 'text' column and assign to 'text_cleaned'\n",
        "df['text_cleaned'] = df['text'].apply(clean_text)\n",
        "\n",
        "# Display the updated DataFrame\n",
        "print(df[['text', 'text_cleaned']])"
      ],
      "metadata": {
        "colab": {
          "base_uri": "https://localhost:8080/"
        },
        "id": "sG_U2Jb9g_xo",
        "outputId": "6037ba08-e76c-4ff7-e3bc-c32907bb7fba"
      },
      "execution_count": null,
      "outputs": [
        {
          "output_type": "stream",
          "name": "stdout",
          "text": [
            "                                                    text  \\\n",
            "0                    @VirginAmerica What @dhepburn said.   \n",
            "1      @VirginAmerica plus you've added commercials t...   \n",
            "2      @VirginAmerica I didn't today... Must mean I n...   \n",
            "3      @VirginAmerica it's really aggressive to blast...   \n",
            "4      @VirginAmerica and it's a really big bad thing...   \n",
            "...                                                  ...   \n",
            "14635  @AmericanAir thank you we got on a different f...   \n",
            "14636  @AmericanAir leaving over 20 minutes Late Flig...   \n",
            "14637  @AmericanAir Please bring American Airlines to...   \n",
            "14638  @AmericanAir you have my money, you change my ...   \n",
            "14639  @AmericanAir we have 8 ppl so we need 2 know h...   \n",
            "\n",
            "                                            text_cleaned  \n",
            "0                      @ virginamerica @ dhepburn said .  \n",
            "1      @ virginamerica plu 've ad commerci experi ......  \n",
            "2      @ virginamerica n't today ... must mean need t...  \n",
            "3      @ virginamerica 's realli aggress blast obnoxi...  \n",
            "4                @ virginamerica 's realli big bad thing  \n",
            "...                                                  ...  \n",
            "14635    @ americanair thank got differ flight chicago .  \n",
            "14636  @ americanair leav 20 minut late flight . warn...  \n",
            "14637  @ americanair pleas bring american airlin # bl...  \n",
            "14638  @ americanair money , chang flight , n't answe...  \n",
            "14639  @ americanair 8 ppl need 2 know mani seat next...  \n",
            "\n",
            "[14640 rows x 2 columns]\n"
          ]
        }
      ]
    },
    {
      "cell_type": "code",
      "source": [
        "import pandas as pd\n",
        "from sklearn.model_selection import train_test_split\n",
        "from sklearn.feature_extraction.text import CountVectorizer\n",
        "from sklearn.naive_bayes import MultinomialNB\n",
        "from sklearn.ensemble import RandomForestClassifier\n",
        "from sklearn.metrics import accuracy_score\n",
        "\n",
        "\n",
        "\n",
        "# Split the dataset into training and testing sets\n",
        "X_train, X_test, y_train, y_test = train_test_split(\n",
        "    df['text_cleaned'], df['airline_sentiment'], test_size=0.2, random_state=2\n",
        ")\n",
        "\n",
        "# Convert text data into numerical features using CountVectorizer\n",
        "vectorizer = CountVectorizer()\n",
        "X_train_vectorized = vectorizer.fit_transform(X_train)\n",
        "X_test_vectorized = vectorizer.transform(X_test)\n",
        "\n",
        "# Train a Multinomial Naïve Bayes classifier\n",
        "nb_classifier = MultinomialNB()\n",
        "nb_classifier.fit(X_train_vectorized, y_train)\n",
        "\n",
        "# Predict the sentiment of tweets in the test dataset\n",
        "y_pred_nb = nb_classifier.predict(X_test_vectorized)\n",
        "\n",
        "# Find the accuracy of the Naïve Bayes classifier\n",
        "accuracy_nb = accuracy_score(y_test, y_pred_nb)\n",
        "print(f'Accuracy of Naïve Bayes Classifier: {accuracy_nb:.4f}')\n",
        "\n",
        "# Train a Random Forest classifier\n",
        "rf_classifier = RandomForestClassifier()\n",
        "rf_classifier.fit(X_train_vectorized, y_train)\n",
        "\n",
        "# Predict the sentiment of tweets in the test dataset using Random Forest\n",
        "y_pred_rf = rf_classifier.predict(X_test_vectorized)\n",
        "\n",
        "# Find the accuracy of the Random Forest classifier\n",
        "accuracy_rf = accuracy_score(y_test, y_pred_rf)\n",
        "print(f'Accuracy of Random Forest Classifier: {accuracy_rf:.4f}')\n"
      ],
      "metadata": {
        "colab": {
          "base_uri": "https://localhost:8080/"
        },
        "id": "4VshMzpthWEd",
        "outputId": "87ba774f-5dce-4303-a4ea-6712e67368a4"
      },
      "execution_count": null,
      "outputs": [
        {
          "output_type": "stream",
          "name": "stdout",
          "text": [
            "Accuracy of Naïve Bayes Classifier: 0.7514\n",
            "Accuracy of Random Forest Classifier: 0.7548\n"
          ]
        }
      ]
    },
    {
      "cell_type": "code",
      "source": [
        "sentiment_counts = df.groupby('airline_sentiment').describe()\n",
        "\n",
        "# Display the count of instances/rows for the \"negative\" sentiment class\n",
        "negative_count = sentiment_counts.loc['negative']['text']['count']\n",
        "print(f'Number of instances with \"negative\" sentiment: {negative_count}')\n"
      ],
      "metadata": {
        "colab": {
          "base_uri": "https://localhost:8080/"
        },
        "id": "aX6ej8tbj9Zz",
        "outputId": "5ef8266c-f384-4c9f-c675-3a6e398c97cb"
      },
      "execution_count": null,
      "outputs": [
        {
          "output_type": "stream",
          "name": "stdout",
          "text": [
            "Number of instances with \"negative\" sentiment: 9178\n"
          ]
        }
      ]
    },
    {
      "cell_type": "code",
      "source": [
        "\n",
        "\n",
        "# Filter the dataset for rows with sentiment \"neutral\"\n",
        "neutral_tweets = df[df['airline_sentiment'] == 'neutral']\n",
        "\n",
        "# Find the number of unique tweets in the \"neutral\" sentiment class\n",
        "unique_neutral_tweets = neutral_tweets['text'].nunique()\n",
        "\n",
        "print(f'Number of unique tweets with \"neutral\" sentiment: {unique_neutral_tweets}')\n"
      ],
      "metadata": {
        "colab": {
          "base_uri": "https://localhost:8080/"
        },
        "id": "cnsuAafAkTZn",
        "outputId": "25140658-aa5f-4c8a-a1b2-1f0a53827ce3"
      },
      "execution_count": null,
      "outputs": [
        {
          "output_type": "stream",
          "name": "stdout",
          "text": [
            "Number of unique tweets with \"neutral\" sentiment: 3067\n"
          ]
        }
      ]
    },
    {
      "cell_type": "code",
      "source": [
        "from sklearn.metrics import accuracy_score\n",
        "\n",
        "# Calculate accuracy\n",
        "accuracy_nb = accuracy_score(y_test, y_pred_nb)\n",
        "\n",
        "# Print the rounded accuracy to two decimal points\n",
        "print(f'Accuracy of Multinomial Naïve Bayes Classifier: {accuracy_nb:.2f}')\n"
      ],
      "metadata": {
        "colab": {
          "base_uri": "https://localhost:8080/"
        },
        "id": "MKIO5vGVkouk",
        "outputId": "d7e3a3b4-42cc-41b8-fdb1-c0f3dc785a8d"
      },
      "execution_count": null,
      "outputs": [
        {
          "output_type": "stream",
          "name": "stdout",
          "text": [
            "Accuracy of Multinomial Naïve Bayes Classifier: 0.75\n"
          ]
        }
      ]
    },
    {
      "cell_type": "code",
      "source": [
        "preprocessed_text = clean_text(df['text'].iloc[0])\n",
        "\n",
        "print(f'Original Text: {df[\"text\"].iloc[0]}')\n",
        "print(f'Preprocessed Text: {preprocessed_text}')\n"
      ],
      "metadata": {
        "colab": {
          "base_uri": "https://localhost:8080/"
        },
        "id": "PnPcgEjok2Fz",
        "outputId": "61e28251-34f7-48f9-bf86-3b3bec93cbef"
      },
      "execution_count": null,
      "outputs": [
        {
          "output_type": "stream",
          "name": "stdout",
          "text": [
            "Original Text: @VirginAmerica What @dhepburn said.\n",
            "Preprocessed Text: @ virginamerica @ dhepburn said .\n"
          ]
        }
      ]
    }
  ]
}